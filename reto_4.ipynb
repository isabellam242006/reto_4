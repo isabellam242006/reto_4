{
  "nbformat": 4,
  "nbformat_minor": 0,
  "metadata": {
    "colab": {
      "provenance": [],
      "authorship_tag": "ABX9TyM+JQpXAjjk3B1vK536pQpq",
      "include_colab_link": true
    },
    "kernelspec": {
      "name": "python3",
      "display_name": "Python 3"
    },
    "language_info": {
      "name": "python"
    }
  },
  "cells": [
    {
      "cell_type": "markdown",
      "metadata": {
        "id": "view-in-github",
        "colab_type": "text"
      },
      "source": [
        "<a href=\"https://colab.research.google.com/github/isabellam242006/reto_2/blob/main/reto_4.ipynb\" target=\"_parent\"><img src=\"https://colab.research.google.com/assets/colab-badge.svg\" alt=\"Open In Colab\"/></a>"
      ]
    },
    {
      "cell_type": "markdown",
      "source": [
        "**RETO 4**\n",
        "\n",
        "- 1. Dado un número entero, determinar si ese número corresponde al código ASCII de una vocal minúscula."
      ],
      "metadata": {
        "id": "HgMUAeQ2CUGd"
      }
    },
    {
      "cell_type": "code",
      "execution_count": null,
      "metadata": {
        "colab": {
          "base_uri": "https://localhost:8080/"
        },
        "id": "wxdOP8fh40L8",
        "outputId": "c34e4423-e38f-4eb9-a665-75de0d46613b"
      },
      "outputs": [
        {
          "output_type": "stream",
          "name": "stdout",
          "text": [
            "Ingrese un número entero cualquiera: -4\n",
            "El número -4 no equivale a una vocal minúscula en código ASCII\n"
          ]
        }
      ],
      "source": [
        "numero_entero: int\n",
        "numeros_vocales = [97, 101, 105, 111, 117]  #Lista de números que corresponden al código ASCII de vocales minúsculas\n",
        "\n",
        "a = int(input(\"Ingrese un número entero cualquiera: \"))\n",
        "if a in numeros_vocales:                    #Si \"a\" corresponde a cualquiera de esos números entonces:\n",
        "  print(\"El número \" + str(a) + \" equivale a una vocal minúscula en código ASCII\")\n",
        "else:                                       #Si no:\n",
        "  print(\"El número \" + str(a) + \" no equivale a una vocal minúscula en código ASCII\")"
      ]
    },
    {
      "cell_type": "markdown",
      "source": [
        "- 2. Dada una cadena de longitud 1, determine si el código ASCII de primera letra de la cadena es par o no.\n",
        "\n"
      ],
      "metadata": {
        "id": "fJTeWuB9DW-_"
      }
    },
    {
      "cell_type": "code",
      "source": [
        "letra: str\n",
        "letra = str(input(\"ingrese una letra cualquiera(solo 1 caracter): \"))\n",
        "\n",
        "if ord(letra)%2==0:      #ord devuelve el código ASCII de cualquier caracter. Si el módulo entre el código y 2 es 0, entonces:\n",
        "  print(letra + \" pertenece a un código ASCII par\")\n",
        "else:                    #Si no:\n",
        "  print(letra + \" pertenece a un código ASCII impar\")\n"
      ],
      "metadata": {
        "id": "aldknkHSB3TO"
      },
      "execution_count": null,
      "outputs": []
    },
    {
      "cell_type": "markdown",
      "source": [
        "- 3. Dado un carácter, construya un programa en Python para determinar si el carácter es un dígito o no.\n",
        "\n"
      ],
      "metadata": {
        "id": "IzdYOWdnET3v"
      }
    },
    {
      "cell_type": "code",
      "source": [
        "caracter: str\n",
        "caracter = str(input(\"ingrese un caracter: \"))\n",
        "if 48<= ord(caracter)<=57:                 #Los códigos ASCII del 48 al 57 pertenecen a los dígitos (Números del 0 al 9)\n",
        "  print(\"Usted ha ingresado un dígito\")    #Si el caracter ingresado está dentro del rango, entonces se trata de un dígito\n",
        "else:                                      #De lo contrario:\n",
        "  print(\"Usted no ha ingresado un dígito\")\n"
      ],
      "metadata": {
        "id": "J07pI6h1JisG"
      },
      "execution_count": null,
      "outputs": []
    },
    {
      "cell_type": "markdown",
      "source": [
        "- 4. Dado un número real x, construya un programa que permita determinar si el número es positivo, negativo o cero. Para cada caso de debe imprimir el texto que se especifica a continuación:\n",
        "\n",
        "\n",
        "- **Positivo:** \"El número x es positivo\"\n",
        "-**Negativo:** \"El número x es negativo\"\n",
        "-**Cero (0):** \"El número x es el neutro para la suma\"\n"
      ],
      "metadata": {
        "id": "L-xObd81HsSZ"
      }
    },
    {
      "cell_type": "code",
      "source": [
        "x : float\n",
        "x = float(input(\"Ingrese un número cualquiera: \"))\n",
        "if x > 0:\n",
        "  print(\"el número \" + str(x) + \" es positivo\")\n",
        "elif x == 0:\n",
        "  print(\"el número \" + str(x) + \" es neutro para la suma\")\n",
        "else:\n",
        "  print(\"el número \" + str(x) + \" es negativo\")\n"
      ],
      "metadata": {
        "id": "fzW7qJnTOmWp",
        "colab": {
          "base_uri": "https://localhost:8080/",
          "height": 391
        },
        "outputId": "0658500f-a6f7-4cc1-b117-f726aeb026d9"
      },
      "execution_count": null,
      "outputs": [
        {
          "output_type": "error",
          "ename": "KeyboardInterrupt",
          "evalue": "ignored",
          "traceback": [
            "\u001b[0;31m---------------------------------------------------------------------------\u001b[0m",
            "\u001b[0;31mKeyboardInterrupt\u001b[0m                         Traceback (most recent call last)",
            "\u001b[0;32m<ipython-input-53-ca91867c6ab4>\u001b[0m in \u001b[0;36m<cell line: 4>\u001b[0;34m()\u001b[0m\n\u001b[1;32m      2\u001b[0m \u001b[0;34m\u001b[0m\u001b[0m\n\u001b[1;32m      3\u001b[0m \u001b[0mx\u001b[0m \u001b[0;34m:\u001b[0m \u001b[0mfloat\u001b[0m\u001b[0;34m\u001b[0m\u001b[0;34m\u001b[0m\u001b[0m\n\u001b[0;32m----> 4\u001b[0;31m \u001b[0mx\u001b[0m \u001b[0;34m=\u001b[0m \u001b[0mfloat\u001b[0m\u001b[0;34m(\u001b[0m\u001b[0minput\u001b[0m\u001b[0;34m(\u001b[0m\u001b[0;34m\"Ingrese un número cualquiera: \"\u001b[0m\u001b[0;34m)\u001b[0m\u001b[0;34m)\u001b[0m\u001b[0;34m\u001b[0m\u001b[0;34m\u001b[0m\u001b[0m\n\u001b[0m\u001b[1;32m      5\u001b[0m \u001b[0;32mif\u001b[0m \u001b[0mx\u001b[0m \u001b[0;34m>\u001b[0m \u001b[0;36m0\u001b[0m\u001b[0;34m:\u001b[0m\u001b[0;34m\u001b[0m\u001b[0;34m\u001b[0m\u001b[0m\n\u001b[1;32m      6\u001b[0m   \u001b[0mprint\u001b[0m\u001b[0;34m(\u001b[0m\u001b[0;34m\"el número \"\u001b[0m \u001b[0;34m+\u001b[0m \u001b[0mstr\u001b[0m\u001b[0;34m(\u001b[0m\u001b[0mx\u001b[0m\u001b[0;34m)\u001b[0m \u001b[0;34m+\u001b[0m \u001b[0;34m\" es positivo\"\u001b[0m\u001b[0;34m)\u001b[0m\u001b[0;34m\u001b[0m\u001b[0;34m\u001b[0m\u001b[0m\n",
            "\u001b[0;32m/usr/local/lib/python3.10/dist-packages/ipykernel/kernelbase.py\u001b[0m in \u001b[0;36mraw_input\u001b[0;34m(self, prompt)\u001b[0m\n\u001b[1;32m    849\u001b[0m                 \u001b[0;34m\"raw_input was called, but this frontend does not support input requests.\"\u001b[0m\u001b[0;34m\u001b[0m\u001b[0;34m\u001b[0m\u001b[0m\n\u001b[1;32m    850\u001b[0m             )\n\u001b[0;32m--> 851\u001b[0;31m         return self._input_request(str(prompt),\n\u001b[0m\u001b[1;32m    852\u001b[0m             \u001b[0mself\u001b[0m\u001b[0;34m.\u001b[0m\u001b[0m_parent_ident\u001b[0m\u001b[0;34m,\u001b[0m\u001b[0;34m\u001b[0m\u001b[0;34m\u001b[0m\u001b[0m\n\u001b[1;32m    853\u001b[0m             \u001b[0mself\u001b[0m\u001b[0;34m.\u001b[0m\u001b[0m_parent_header\u001b[0m\u001b[0;34m,\u001b[0m\u001b[0;34m\u001b[0m\u001b[0;34m\u001b[0m\u001b[0m\n",
            "\u001b[0;32m/usr/local/lib/python3.10/dist-packages/ipykernel/kernelbase.py\u001b[0m in \u001b[0;36m_input_request\u001b[0;34m(self, prompt, ident, parent, password)\u001b[0m\n\u001b[1;32m    893\u001b[0m             \u001b[0;32mexcept\u001b[0m \u001b[0mKeyboardInterrupt\u001b[0m\u001b[0;34m:\u001b[0m\u001b[0;34m\u001b[0m\u001b[0;34m\u001b[0m\u001b[0m\n\u001b[1;32m    894\u001b[0m                 \u001b[0;31m# re-raise KeyboardInterrupt, to truncate traceback\u001b[0m\u001b[0;34m\u001b[0m\u001b[0;34m\u001b[0m\u001b[0m\n\u001b[0;32m--> 895\u001b[0;31m                 \u001b[0;32mraise\u001b[0m \u001b[0mKeyboardInterrupt\u001b[0m\u001b[0;34m(\u001b[0m\u001b[0;34m\"Interrupted by user\"\u001b[0m\u001b[0;34m)\u001b[0m \u001b[0;32mfrom\u001b[0m \u001b[0;32mNone\u001b[0m\u001b[0;34m\u001b[0m\u001b[0;34m\u001b[0m\u001b[0m\n\u001b[0m\u001b[1;32m    896\u001b[0m             \u001b[0;32mexcept\u001b[0m \u001b[0mException\u001b[0m \u001b[0;32mas\u001b[0m \u001b[0me\u001b[0m\u001b[0;34m:\u001b[0m\u001b[0;34m\u001b[0m\u001b[0;34m\u001b[0m\u001b[0m\n\u001b[1;32m    897\u001b[0m                 \u001b[0mself\u001b[0m\u001b[0;34m.\u001b[0m\u001b[0mlog\u001b[0m\u001b[0;34m.\u001b[0m\u001b[0mwarning\u001b[0m\u001b[0;34m(\u001b[0m\u001b[0;34m\"Invalid Message:\"\u001b[0m\u001b[0;34m,\u001b[0m \u001b[0mexc_info\u001b[0m\u001b[0;34m=\u001b[0m\u001b[0;32mTrue\u001b[0m\u001b[0;34m)\u001b[0m\u001b[0;34m\u001b[0m\u001b[0;34m\u001b[0m\u001b[0m\n",
            "\u001b[0;31mKeyboardInterrupt\u001b[0m: Interrupted by user"
          ]
        }
      ]
    },
    {
      "cell_type": "markdown",
      "source": [
        "- 5. Dado el centro y el radio de un círculo, determinar si un punto de R2 pertenece o no al interior del círculo.\n",
        "\n"
      ],
      "metadata": {
        "id": "NE58xhQAKYkX"
      }
    },
    {
      "cell_type": "code",
      "source": [
        "centro_x: float\n",
        "centro_y: float\n",
        "radio: float\n",
        "coordenada_x : float\n",
        "coordenada_y : float\n",
        "\n",
        "centro_x = float(input(\"Ingrese un número para la coordenada x del centro del círculo: \"))\n",
        "centro_y = float(input(\"Ingrese un número para la coordenada y del centro del círculo: \"))\n",
        "radio = float(input(\"Ingrese un número positivo para el radio del círculo: \"))\n",
        "coordenada_x = float(input(\"Ingrese un número para una coordenada x cualquiera: \"))\n",
        "coordenada_y = float(input(\"Ingrese un número para una coordenada y cualquiera: \"))\n",
        "\n",
        "if ((coordenada_x - centro_x)**2 + (coordenada_y - centro_y)**2)**0.5 < radio:  #Si la distancia entre el centro y el punto es menor que el radio, entonces:\n",
        "                     print(\"El punto está dentro del círculo\")\n",
        "else:                                                                           #Si no:\n",
        "                     print(\"El punto no está dentro del círculo\")"
      ],
      "metadata": {
        "id": "Mxn8LJtR76Yv",
        "colab": {
          "base_uri": "https://localhost:8080/"
        },
        "outputId": "fbbd5260-4f83-4048-f571-db8517f75290"
      },
      "execution_count": null,
      "outputs": [
        {
          "output_type": "stream",
          "name": "stdout",
          "text": [
            "Ingrese un número para la coordenada x del centro del círculo: 5.7\n",
            "Ingrese un número para la coordenada y del centro del círculo: 8\n",
            "Ingrese un número positivo para el radio del círculo: 6.5\n",
            "Ingrese un número de una coordenada x cualquiera: 2\n",
            "Ingrese un número de una coordenada y cualquiera: 7\n",
            "Las coordenadas están dentro del círculo\n"
          ]
        }
      ]
    },
    {
      "cell_type": "markdown",
      "source": [
        "- 5. Dadas tres longitudes positivas, determinar si con esas longitudes se puede construir un triángulo.\n",
        "\n"
      ],
      "metadata": {
        "id": "4Q4No3zSKpHk"
      }
    },
    {
      "cell_type": "code",
      "source": [
        "a: float\n",
        "b: float\n",
        "c: float\n",
        "\n",
        "a = float(input(\"ingrese una longitud(número positivo): \"))\n",
        "b = float(input(\"ingrese otra longitud(número positivo): \" ))\n",
        "c = float(input(\"ingrese una tercera longitud(número positivo): \"))\n",
        "\n",
        "if a + b > c and a + c > b and b + c > a :  #Si se cumple que la suma de dos longitudes es mayor que la tercera longitud, entonces:\n",
        "  print(\"Se puede formar un triángulo\")\n",
        "else:                                       #Si no:\n",
        "  print(\"No se puede formar un triángulo\")\n",
        "\n",
        "\n"
      ],
      "metadata": {
        "id": "viNtyEvsAlQj",
        "colab": {
          "base_uri": "https://localhost:8080/"
        },
        "outputId": "4bcc3955-b6e5-46b3-f362-d929a144145d"
      },
      "execution_count": 9,
      "outputs": [
        {
          "output_type": "stream",
          "name": "stdout",
          "text": [
            "ingrese una longitud(número positivo): 3\n",
            "ingrese otra longitud(número positivo): 4\n",
            "ingrese una tercera longitud(número positivo): 5\n",
            "Se puede formar un triángulo\n"
          ]
        }
      ]
    }
  ]
}